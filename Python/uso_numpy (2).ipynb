{
 "cells": [
  {
   "cell_type": "markdown",
   "metadata": {},
   "source": [
    "## Aplicación de NumPy\n",
    "\n",
    "-----------------------\n",
    "\n",
    "#### Ejemplo 1\n",
    "\n",
    "Los datos contenidos en el fichero [datos.txt](./datos.txt) describe las poblaciones de tres tipos de serpientes en el sur de Africa durante 20 años."
   ]
  },
  {
   "cell_type": "code",
   "execution_count": 2,
   "metadata": {},
   "outputs": [
    {
     "data": {
      "text/plain": [
       "array([[  2000.,  30000.,   3000.,  38300.],\n",
       "       [  2001.,  37200.,   6100.,  48200.],\n",
       "       [  2002.,  60200.,   9800.,  31600.],\n",
       "       [  2003.,  77300.,  36200.,  38200.],\n",
       "       [  2004.,  36300.,  69300.,  30600.],\n",
       "       [  2005.,  20600.,  31700.,  49800.],\n",
       "       [  2006.,  18100.,  19000.,  38600.],\n",
       "       [  2007.,  21300.,  13000.,  32300.],\n",
       "       [  2008.,  22000.,   8300.,  43600.],\n",
       "       [  2009.,  26300.,   9100.,  32100.],\n",
       "       [  2010.,  27100.,   7300.,  36000.],\n",
       "       [  2011.,  30300.,   8000.,  36800.],\n",
       "       [  2012.,  67000.,  12300.,  33800.],\n",
       "       [  2013.,  76600.,  19600.,  30900.],\n",
       "       [  2014.,  62300.,  36700.,  49300.],\n",
       "       [  2015.,  19600.,  61100.,  39000.],\n",
       "       [  2016.,  11200.,  29700.,  36700.],\n",
       "       [  2017.,   7600.,  16800.,  41800.],\n",
       "       [  2018.,  13600.,   9700.,  33300.],\n",
       "       [  2019.,  16200.,  10100.,  31300.],\n",
       "       [  2020.,  23700.,   8600.,  47300.]])"
      ]
     },
     "execution_count": 2,
     "metadata": {},
     "output_type": "execute_result"
    }
   ],
   "source": [
    "import numpy as np\n",
    "data = np.loadtxt('./datos.txt')    # carga de los datos\n",
    "data"
   ]
  },
  {
   "cell_type": "markdown",
   "metadata": {},
   "source": [
    "* Cálculo de la media de población de cada tipo a lo largo del tiempo.\n"
   ]
  },
  {
   "cell_type": "code",
   "execution_count": 3,
   "metadata": {},
   "outputs": [
    {
     "name": "stdout",
     "output_type": "stream",
     "text": [
      "33547.6190476 20257.1428571 38071.4285714\n"
     ]
    }
   ],
   "source": [
    "mediapob1=data[:,1].mean()\n",
    "mediapob2=data[:,2].mean()\n",
    "mediapob3=data[:,3].mean()\n",
    "print(mediapob1,mediapob2,mediapob3)"
   ]
  },
  {
   "cell_type": "markdown",
   "metadata": {},
   "source": [
    "* Cálculo de la __desviación estándar__ de la muestra. Se trata de una medida de dispersión para variables. Muestra la agrupación de los datos alrededor de un valor central (la media o promedio)."
   ]
  },
  {
   "cell_type": "code",
   "execution_count": 4,
   "metadata": {},
   "outputs": [
    {
     "name": "stdout",
     "output_type": "stream",
     "text": [
      "21173.559861 17581.932594 6209.91088481\n"
     ]
    }
   ],
   "source": [
    "desvest1=data[:,1].std()\n",
    "desvest2=data[:,2].std()\n",
    "desvest3=data[:,3].std()\n",
    "print(desvest1,desvest2,desvest3)"
   ]
  },
  {
   "cell_type": "markdown",
   "metadata": {},
   "source": [
    "* ¿Qué especie ha tenido más población por año?"
   ]
  },
  {
   "cell_type": "code",
   "execution_count": 17,
   "metadata": {},
   "outputs": [
    {
     "data": {
      "text/plain": [
       "[[2000, 'especie 3'],\n",
       " [2001, 'especie 3'],\n",
       " [2002, 'especie 1'],\n",
       " [2002, 'especie 3'],\n",
       " [2003, 'especie 1'],\n",
       " [2003, 'especie 3'],\n",
       " [2004, 'especie 2'],\n",
       " [2005, 'especie 3'],\n",
       " [2006, 'especie 3'],\n",
       " [2007, 'especie 3'],\n",
       " [2008, 'especie 3'],\n",
       " [2009, 'especie 3'],\n",
       " [2010, 'especie 3'],\n",
       " [2011, 'especie 3'],\n",
       " [2012, 'especie 1'],\n",
       " [2012, 'especie 3'],\n",
       " [2013, 'especie 1'],\n",
       " [2013, 'especie 3'],\n",
       " [2014, 'especie 1'],\n",
       " [2014, 'especie 3'],\n",
       " [2015, 'especie 2'],\n",
       " [2016, 'especie 3'],\n",
       " [2017, 'especie 3'],\n",
       " [2018, 'especie 3'],\n",
       " [2019, 'especie 3'],\n",
       " [2020, 'especie 3']]"
      ]
     },
     "execution_count": 17,
     "metadata": {},
     "output_type": "execute_result"
    }
   ],
   "source": [
    "lista=[]\n",
    "for i in range (len(data)):\n",
    "   \n",
    "    if max(data[i][1:4])==data[i][1]:\n",
    "        lista.append([int(data[i][0]),'especie 1'])\n",
    "    if max(data[i][1:4])==data[i][2]:\n",
    "        lista.append([int(data[i][0]),'especie 2'])\n",
    "    else:\n",
    "        lista.append([int(data[i][0]),'especie 3'])\n",
    "lista"
   ]
  },
  {
   "cell_type": "markdown",
   "metadata": {},
   "source": [
    "------------------------"
   ]
  },
  {
   "cell_type": "code",
   "execution_count": null,
   "metadata": {
    "collapsed": true
   },
   "outputs": [],
   "source": []
  }
 ],
 "metadata": {
  "anaconda-cloud": {},
  "kernelspec": {
   "display_name": "Python 3",
   "language": "python",
   "name": "python3"
  },
  "language_info": {
   "codemirror_mode": {
    "name": "ipython",
    "version": 3
   },
   "file_extension": ".py",
   "mimetype": "text/x-python",
   "name": "python",
   "nbconvert_exporter": "python",
   "pygments_lexer": "ipython3",
   "version": "3.6.1"
  },
  "toc": {
   "colors": {
    "hover_highlight": "#DAA520",
    "running_highlight": "#FF0000",
    "selected_highlight": "#FFD700"
   },
   "moveMenuLeft": true,
   "nav_menu": {
    "height": "68px",
    "width": "252px"
   },
   "navigate_menu": true,
   "number_sections": true,
   "sideBar": true,
   "threshold": 4,
   "toc_cell": false,
   "toc_section_display": "block",
   "toc_window_display": false,
   "widenNotebook": false
  }
 },
 "nbformat": 4,
 "nbformat_minor": 1
}
