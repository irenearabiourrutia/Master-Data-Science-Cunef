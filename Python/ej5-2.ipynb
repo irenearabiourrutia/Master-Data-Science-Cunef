{
 "cells": [
  {
   "cell_type": "markdown",
   "metadata": {},
   "source": [
    "# Ejercicios 5"
   ]
  },
  {
   "cell_type": "markdown",
   "metadata": {},
   "source": [
    "#### 1 Ejercicio"
   ]
  },
  {
   "cell_type": "markdown",
   "metadata": {},
   "source": [
    "El fichero [oil_price.csv](./datos/oil_price_monthly.csv) contiene información mensual del precio del petróleo desde el año 1985. Abre el fichero y mira el aspecto que tiene.\n",
    "* La primera columna contiene el mes y el año en formato 'yyyy-mm'.\n",
    "* La segunda columna contiene el precio del barril expresado en euros.\n",
    "\n",
    "----\n",
    "* Realiza la carga del fichero utilizando la función __read_csv__ de pandas. El DataFrame creado debe tener como índices la fecha. Ha de llamarse `datos`.\n"
   ]
  },
  {
   "cell_type": "code",
   "execution_count": 1,
   "metadata": {
    "collapsed": true
   },
   "outputs": [],
   "source": [
    "# Sol:\n",
    "import numpy as np\n",
    "import pandas as pd\n"
   ]
  },
  {
   "cell_type": "code",
   "execution_count": 2,
   "metadata": {},
   "outputs": [
    {
     "data": {
      "text/plain": [
       "'/Users/irenearabiourrutia/Downloads/Cunef_Bloque4/Ejercicios_Tema_7'"
      ]
     },
     "execution_count": 2,
     "metadata": {},
     "output_type": "execute_result"
    }
   ],
   "source": [
    "%pwd"
   ]
  },
  {
   "cell_type": "code",
   "execution_count": 3,
   "metadata": {},
   "outputs": [
    {
     "data": {
      "text/html": [
       "<div>\n",
       "<style>\n",
       "    .dataframe thead tr:only-child th {\n",
       "        text-align: right;\n",
       "    }\n",
       "\n",
       "    .dataframe thead th {\n",
       "        text-align: left;\n",
       "    }\n",
       "\n",
       "    .dataframe tbody tr th {\n",
       "        vertical-align: top;\n",
       "    }\n",
       "</style>\n",
       "<table border=\"1\" class=\"dataframe\">\n",
       "  <thead>\n",
       "    <tr style=\"text-align: right;\">\n",
       "      <th></th>\n",
       "      <th>Precio_barril</th>\n",
       "    </tr>\n",
       "  </thead>\n",
       "  <tbody>\n",
       "    <tr>\n",
       "      <th>1985-05</th>\n",
       "      <td>36.6383</td>\n",
       "    </tr>\n",
       "    <tr>\n",
       "      <th>1985-06</th>\n",
       "      <td>35.4184</td>\n",
       "    </tr>\n",
       "    <tr>\n",
       "      <th>1985-07</th>\n",
       "      <td>34.2709</td>\n",
       "    </tr>\n",
       "    <tr>\n",
       "      <th>1985-08</th>\n",
       "      <td>33.8411</td>\n",
       "    </tr>\n",
       "    <tr>\n",
       "      <th>1985-09</th>\n",
       "      <td>34.6826</td>\n",
       "    </tr>\n",
       "    <tr>\n",
       "      <th>1985-10</th>\n",
       "      <td>33.4498</td>\n",
       "    </tr>\n",
       "    <tr>\n",
       "      <th>1985-11</th>\n",
       "      <td>34.1048</td>\n",
       "    </tr>\n",
       "    <tr>\n",
       "      <th>1985-12</th>\n",
       "      <td>29.5807</td>\n",
       "    </tr>\n",
       "    <tr>\n",
       "      <th>1986-01</th>\n",
       "      <td>25.2609</td>\n",
       "    </tr>\n",
       "    <tr>\n",
       "      <th>1986-02</th>\n",
       "      <td>16.8622</td>\n",
       "    </tr>\n",
       "  </tbody>\n",
       "</table>\n",
       "</div>"
      ],
      "text/plain": [
       "         Precio_barril\n",
       "1985-05        36.6383\n",
       "1985-06        35.4184\n",
       "1985-07        34.2709\n",
       "1985-08        33.8411\n",
       "1985-09        34.6826\n",
       "1985-10        33.4498\n",
       "1985-11        34.1048\n",
       "1985-12        29.5807\n",
       "1986-01        25.2609\n",
       "1986-02        16.8622"
      ]
     },
     "execution_count": 3,
     "metadata": {},
     "output_type": "execute_result"
    }
   ],
   "source": [
    "datos= pd.read_csv('/Users/irenearabiourrutia/Downloads/Cunef_Bloque4/Ejercicios_Tema_7/datos/oil_price_monthly.csv', \n",
    "                    names = ['Precio_barril'],index_col = 0\n",
    "                               )\n",
    "datos.iloc[:10]    # muestro solo las 10 primeras entradas\n"
   ]
  },
  {
   "cell_type": "code",
   "execution_count": null,
   "metadata": {
    "collapsed": true
   },
   "outputs": [],
   "source": []
  },
  {
   "cell_type": "code",
   "execution_count": null,
   "metadata": {
    "collapsed": true
   },
   "outputs": [],
   "source": []
  },
  {
   "cell_type": "code",
   "execution_count": 4,
   "metadata": {},
   "outputs": [
    {
     "data": {
      "image/png": "[encoded data removed]",
      "text/plain": [
       "<matplotlib.figure.Figure at 0x1138e6a90>"
      ]
     },
     "metadata": {},
     "output_type": "display_data"
    }
   ],
   "source": [
    "# Rrepresenta gráficamente la evolución de los precios\n",
    "import matplotlib as mpl\n",
    "import matplotlib.pyplot as plt\n",
    "\n",
    "%matplotlib inline\n",
    "\n",
    "datos.plot(title = 'Evolucion Precios',\n",
    "                          figsize=(9,4));     "
   ]
  },
  {
   "cell_type": "markdown",
   "metadata": {},
   "source": [
    "---\n",
    "* Determinar el mes y el año donde por primera vez el precio del petróleo superó los 40 euros, los 60 y los 80 euros.\n",
    "    * Primero crea un DataFrame con el mes y el año donde por primera vez el precio del petróleo superó los 40.\n",
    "    * En segundo lugar crea un DataFrame con el mes y el año donde por primera vez el precio del petróleo superó los 60.\n",
    "    * En tercer lugar crea un DataFrame con el mes y el año donde por primera vez el precio del petróleo superó los 80.\n",
    "    * Consulta la ayuda de la función `join` para saber cómo funciona y para qué sirve. Para ello ejecuta `pd.join?`.\n",
    "    * Utiliza la función `join` para unir los datos en un unico DataFrame.\n",
    "\n",
    "La solución es 2005-03, 2007-11, 2008-05."
   ]
  },
  {
   "cell_type": "code",
   "execution_count": 13,
   "metadata": {},
   "outputs": [
    {
     "data": {
      "text/html": [
       "<div>\n",
       "<style>\n",
       "    .dataframe thead tr:only-child th {\n",
       "        text-align: right;\n",
       "    }\n",
       "\n",
       "    .dataframe thead th {\n",
       "        text-align: left;\n",
       "    }\n",
       "\n",
       "    .dataframe tbody tr th {\n",
       "        vertical-align: top;\n",
       "    }\n",
       "</style>\n",
       "<table border=\"1\" class=\"dataframe\">\n",
       "  <thead>\n",
       "    <tr style=\"text-align: right;\">\n",
       "      <th></th>\n",
       "      <th>Precio_barril</th>\n",
       "    </tr>\n",
       "  </thead>\n",
       "  <tbody>\n",
       "    <tr>\n",
       "      <th>2005-03</th>\n",
       "      <td>40.4137</td>\n",
       "    </tr>\n",
       "    <tr>\n",
       "      <th>2005-04</th>\n",
       "      <td>41.3922</td>\n",
       "    </tr>\n",
       "    <tr>\n",
       "      <th>2005-06</th>\n",
       "      <td>45.7259</td>\n",
       "    </tr>\n",
       "    <tr>\n",
       "      <th>2005-07</th>\n",
       "      <td>48.2549</td>\n",
       "    </tr>\n",
       "    <tr>\n",
       "      <th>2005-08</th>\n",
       "      <td>52.0461</td>\n",
       "    </tr>\n",
       "  </tbody>\n",
       "</table>\n",
       "</div>"
      ],
      "text/plain": [
       "         Precio_barril\n",
       "2005-03        40.4137\n",
       "2005-04        41.3922\n",
       "2005-06        45.7259\n",
       "2005-07        48.2549\n",
       "2005-08        52.0461"
      ]
     },
     "execution_count": 13,
     "metadata": {},
     "output_type": "execute_result"
    }
   ],
   "source": [
    "data_filter1 = datos[datos['Precio_barril'] > 40]\n",
    "data_filter2=datos[datos['Precio_barril'] > 60]\n",
    "data_filter3=datos[datos['Precio_barril'] > 80]\n",
    "data_filter1.head()\n"
   ]
  },
  {
   "cell_type": "code",
   "execution_count": 14,
   "metadata": {},
   "outputs": [
    {
     "data": {
      "text/html": [
       "<div>\n",
       "<style>\n",
       "    .dataframe thead tr:only-child th {\n",
       "        text-align: right;\n",
       "    }\n",
       "\n",
       "    .dataframe thead th {\n",
       "        text-align: left;\n",
       "    }\n",
       "\n",
       "    .dataframe tbody tr th {\n",
       "        vertical-align: top;\n",
       "    }\n",
       "</style>\n",
       "<table border=\"1\" class=\"dataframe\">\n",
       "  <thead>\n",
       "    <tr style=\"text-align: right;\">\n",
       "      <th></th>\n",
       "      <th>Precio_barril</th>\n",
       "    </tr>\n",
       "  </thead>\n",
       "  <tbody>\n",
       "    <tr>\n",
       "      <th>2007-11</th>\n",
       "      <td>62.8231</td>\n",
       "    </tr>\n",
       "    <tr>\n",
       "      <th>2007-12</th>\n",
       "      <td>62.7599</td>\n",
       "    </tr>\n",
       "    <tr>\n",
       "      <th>2008-01</th>\n",
       "      <td>62.4387</td>\n",
       "    </tr>\n",
       "    <tr>\n",
       "      <th>2008-02</th>\n",
       "      <td>64.0862</td>\n",
       "    </tr>\n",
       "    <tr>\n",
       "      <th>2008-03</th>\n",
       "      <td>66.1209</td>\n",
       "    </tr>\n",
       "  </tbody>\n",
       "</table>\n",
       "</div>"
      ],
      "text/plain": [
       "         Precio_barril\n",
       "2007-11        62.8231\n",
       "2007-12        62.7599\n",
       "2008-01        62.4387\n",
       "2008-02        64.0862\n",
       "2008-03        66.1209"
      ]
     },
     "execution_count": 14,
     "metadata": {},
     "output_type": "execute_result"
    }
   ],
   "source": [
    "data_filter2.head()\n"
   ]
  },
  {
   "cell_type": "code",
   "execution_count": 15,
   "metadata": {},
   "outputs": [
    {
     "data": {
      "text/html": [
       "<div>\n",
       "<style>\n",
       "    .dataframe thead tr:only-child th {\n",
       "        text-align: right;\n",
       "    }\n",
       "\n",
       "    .dataframe thead th {\n",
       "        text-align: left;\n",
       "    }\n",
       "\n",
       "    .dataframe tbody tr th {\n",
       "        vertical-align: top;\n",
       "    }\n",
       "</style>\n",
       "<table border=\"1\" class=\"dataframe\">\n",
       "  <thead>\n",
       "    <tr style=\"text-align: right;\">\n",
       "      <th></th>\n",
       "      <th>Precio_barril</th>\n",
       "    </tr>\n",
       "  </thead>\n",
       "  <tbody>\n",
       "    <tr>\n",
       "      <th>2008-05</th>\n",
       "      <td>80.1039</td>\n",
       "    </tr>\n",
       "    <tr>\n",
       "      <th>2008-06</th>\n",
       "      <td>85.9319</td>\n",
       "    </tr>\n",
       "    <tr>\n",
       "      <th>2008-07</th>\n",
       "      <td>85.2843</td>\n",
       "    </tr>\n",
       "    <tr>\n",
       "      <th>2011-03</th>\n",
       "      <td>82.1068</td>\n",
       "    </tr>\n",
       "    <tr>\n",
       "      <th>2011-04</th>\n",
       "      <td>85.1395</td>\n",
       "    </tr>\n",
       "  </tbody>\n",
       "</table>\n",
       "</div>"
      ],
      "text/plain": [
       "         Precio_barril\n",
       "2008-05        80.1039\n",
       "2008-06        85.9319\n",
       "2008-07        85.2843\n",
       "2011-03        82.1068\n",
       "2011-04        85.1395"
      ]
     },
     "execution_count": 15,
     "metadata": {},
     "output_type": "execute_result"
    }
   ],
   "source": [
    "data_filter3.head()"
   ]
  },
  {
   "cell_type": "code",
   "execution_count": 73,
   "metadata": {
    "collapsed": true
   },
   "outputs": [],
   "source": [
    "#Sol: \n",
    "#DataFrane precio>40\n",
    "Año = ['2005']\n",
    "Mes= ['03']\n",
    "lista_datos1 = list(zip(Año, Mes))\n",
    "datos1 = pd.DataFrame( data    = lista_datos1,          \n",
    "                      columns = ['Año', 'Mes'])  \n",
    "#DataFrane precio>60\n",
    "Año = ['2007']\n",
    "Mes= ['11']\n",
    "lista_datos2= list(zip(Año, Mes))\n",
    "datos2 = pd.DataFrame( data    = lista_datos2,          \n",
    "                      columns = ['Año', 'Mes'])  "
   ]
  },
  {
   "cell_type": "code",
   "execution_count": 76,
   "metadata": {},
   "outputs": [
    {
     "data": {
      "text/html": [
       "<div>\n",
       "<style>\n",
       "    .dataframe thead tr:only-child th {\n",
       "        text-align: right;\n",
       "    }\n",
       "\n",
       "    .dataframe thead th {\n",
       "        text-align: left;\n",
       "    }\n",
       "\n",
       "    .dataframe tbody tr th {\n",
       "        vertical-align: top;\n",
       "    }\n",
       "</style>\n",
       "<table border=\"1\" class=\"dataframe\">\n",
       "  <thead>\n",
       "    <tr style=\"text-align: right;\">\n",
       "      <th></th>\n",
       "      <th>Añodatos1</th>\n",
       "      <th>Mesdatos1</th>\n",
       "      <th>Añodatos2</th>\n",
       "      <th>Mesdatos2</th>\n",
       "    </tr>\n",
       "  </thead>\n",
       "  <tbody>\n",
       "    <tr>\n",
       "      <th>0</th>\n",
       "      <td>2005</td>\n",
       "      <td>03</td>\n",
       "      <td>2008</td>\n",
       "      <td>05</td>\n",
       "    </tr>\n",
       "  </tbody>\n",
       "</table>\n",
       "</div>"
      ],
      "text/plain": [
       "  Añodatos1 Mesdatos1 Añodatos2 Mesdatos2\n",
       "0      2005        03      2008        05"
      ]
     },
     "execution_count": 76,
     "metadata": {},
     "output_type": "execute_result"
    }
   ],
   "source": [
    "datos3=datos1.join(other,lsuffix='datos1', rsuffix='datos2')\n",
    "datos3"
   ]
  },
  {
   "cell_type": "code",
   "execution_count": 77,
   "metadata": {
    "collapsed": true
   },
   "outputs": [],
   "source": [
    "#DataFrane precio>80\n",
    "Año = ['2008']\n",
    "Mes= ['05']\n",
    "lista_datos3 = list(zip(Año, Mes))\n",
    "datos4 = pd.DataFrame( data    = lista_datos3,          \n",
    "                      columns = ['Año', 'Mes'])  "
   ]
  },
  {
   "cell_type": "code",
   "execution_count": 79,
   "metadata": {},
   "outputs": [
    {
     "data": {
      "text/html": [
       "<div>\n",
       "<style>\n",
       "    .dataframe thead tr:only-child th {\n",
       "        text-align: right;\n",
       "    }\n",
       "\n",
       "    .dataframe thead th {\n",
       "        text-align: left;\n",
       "    }\n",
       "\n",
       "    .dataframe tbody tr th {\n",
       "        vertical-align: top;\n",
       "    }\n",
       "</style>\n",
       "<table border=\"1\" class=\"dataframe\">\n",
       "  <thead>\n",
       "    <tr style=\"text-align: right;\">\n",
       "      <th></th>\n",
       "      <th>Añodatos1</th>\n",
       "      <th>Mesdatos1</th>\n",
       "      <th>Añodatos2</th>\n",
       "      <th>Mesdatos2</th>\n",
       "      <th>Año</th>\n",
       "      <th>Mes</th>\n",
       "    </tr>\n",
       "  </thead>\n",
       "  <tbody>\n",
       "    <tr>\n",
       "      <th>0</th>\n",
       "      <td>2005</td>\n",
       "      <td>03</td>\n",
       "      <td>2008</td>\n",
       "      <td>05</td>\n",
       "      <td>2008</td>\n",
       "      <td>05</td>\n",
       "    </tr>\n",
       "  </tbody>\n",
       "</table>\n",
       "</div>"
      ],
      "text/plain": [
       "  Añodatos1 Mesdatos1 Añodatos2 Mesdatos2   Año Mes\n",
       "0      2005        03      2008        05  2008  05"
      ]
     },
     "execution_count": 79,
     "metadata": {},
     "output_type": "execute_result"
    }
   ],
   "source": [
    "datos3.join(other,lsuffix='datos3', rsuffix='datos4' )"
   ]
  },
  {
   "cell_type": "markdown",
   "metadata": {
    "collapsed": true
   },
   "source": [
    "#### 2 Ejercicio"
   ]
  },
  {
   "cell_type": "markdown",
   "metadata": {},
   "source": [
    "El fichero [rotterdam_rainfall.txt](./datos/rotterdam_rainfall.txt) recoge los datos de las precipitaciones diarias de la estación meteorológica de Rotterdam en 2012.\n",
    "\n",
    "* La primera columna representa la fecha\n",
    "* La segunda columna representa la cantidad de precipitaciones expresado en 0.1 mm (-1 si es menor a 0.05 mm).\n",
    "\n",
    "__Notas__:\n",
    "\n",
    "* Carga los datos en un DataFrame con la función __read_csv__\n",
    "* El índice del DataFrame ha de ser la fecha\n"
   ]
  },
  {
   "cell_type": "code",
   "execution_count": 37,
   "metadata": {},
   "outputs": [
    {
     "data": {
      "text/html": [
       "<div>\n",
       "<style>\n",
       "    .dataframe thead tr:only-child th {\n",
       "        text-align: right;\n",
       "    }\n",
       "\n",
       "    .dataframe thead th {\n",
       "        text-align: left;\n",
       "    }\n",
       "\n",
       "    .dataframe tbody tr th {\n",
       "        vertical-align: top;\n",
       "    }\n",
       "</style>\n",
       "<table border=\"1\" class=\"dataframe\">\n",
       "  <thead>\n",
       "    <tr style=\"text-align: right;\">\n",
       "      <th></th>\n",
       "      <th>precipitaciones</th>\n",
       "    </tr>\n",
       "  </thead>\n",
       "  <tbody>\n",
       "    <tr>\n",
       "      <th>20120101</th>\n",
       "      <td>207</td>\n",
       "    </tr>\n",
       "    <tr>\n",
       "      <th>20120102</th>\n",
       "      <td>-1</td>\n",
       "    </tr>\n",
       "    <tr>\n",
       "      <th>20120103</th>\n",
       "      <td>144</td>\n",
       "    </tr>\n",
       "    <tr>\n",
       "      <th>20120104</th>\n",
       "      <td>36</td>\n",
       "    </tr>\n",
       "    <tr>\n",
       "      <th>20120105</th>\n",
       "      <td>84</td>\n",
       "    </tr>\n",
       "    <tr>\n",
       "      <th>20120106</th>\n",
       "      <td>8</td>\n",
       "    </tr>\n",
       "    <tr>\n",
       "      <th>20120107</th>\n",
       "      <td>30</td>\n",
       "    </tr>\n",
       "    <tr>\n",
       "      <th>20120108</th>\n",
       "      <td>-1</td>\n",
       "    </tr>\n",
       "    <tr>\n",
       "      <th>20120109</th>\n",
       "      <td>8</td>\n",
       "    </tr>\n",
       "    <tr>\n",
       "      <th>20120110</th>\n",
       "      <td>0</td>\n",
       "    </tr>\n",
       "  </tbody>\n",
       "</table>\n",
       "</div>"
      ],
      "text/plain": [
       "          precipitaciones\n",
       "20120101              207\n",
       "20120102               -1\n",
       "20120103              144\n",
       "20120104               36\n",
       "20120105               84\n",
       "20120106                8\n",
       "20120107               30\n",
       "20120108               -1\n",
       "20120109                8\n",
       "20120110                0"
      ]
     },
     "execution_count": 37,
     "metadata": {},
     "output_type": "execute_result"
    }
   ],
   "source": [
    "# Sol\n",
    "import numpy as np\n",
    "import pandas as pd\n",
    "precip= pd.read_csv('/Users/irenearabiourrutia/Downloads/Cunef_Bloque4/Ejercicios_Tema_7/datos/rotterdam_rainfall.txt',\n",
    "                             names = ['precipitaciones'],index_col = 0\n",
    "                               )\n",
    "precip.iloc[:10]    # muestro solo las 10 primeras entradas\n",
    "\n"
   ]
  },
  {
   "cell_type": "markdown",
   "metadata": {},
   "source": [
    "* Modifica los valores de la cantidad de precipitaciones a 0 cuando su valor sea -1."
   ]
  },
  {
   "cell_type": "code",
   "execution_count": 40,
   "metadata": {
    "collapsed": true
   },
   "outputs": [],
   "source": [
    "# Sol:\n",
    "precip.loc[precip.precipitaciones < 0, 'precipitaciones'] = 0\n"
   ]
  },
  {
   "cell_type": "code",
   "execution_count": 41,
   "metadata": {},
   "outputs": [
    {
     "data": {
      "text/html": [
       "<div>\n",
       "<style>\n",
       "    .dataframe thead tr:only-child th {\n",
       "        text-align: right;\n",
       "    }\n",
       "\n",
       "    .dataframe thead th {\n",
       "        text-align: left;\n",
       "    }\n",
       "\n",
       "    .dataframe tbody tr th {\n",
       "        vertical-align: top;\n",
       "    }\n",
       "</style>\n",
       "<table border=\"1\" class=\"dataframe\">\n",
       "  <thead>\n",
       "    <tr style=\"text-align: right;\">\n",
       "      <th></th>\n",
       "      <th>precipitaciones</th>\n",
       "    </tr>\n",
       "  </thead>\n",
       "  <tbody>\n",
       "    <tr>\n",
       "      <th>20120101</th>\n",
       "      <td>207</td>\n",
       "    </tr>\n",
       "    <tr>\n",
       "      <th>20120102</th>\n",
       "      <td>0</td>\n",
       "    </tr>\n",
       "    <tr>\n",
       "      <th>20120103</th>\n",
       "      <td>144</td>\n",
       "    </tr>\n",
       "    <tr>\n",
       "      <th>20120104</th>\n",
       "      <td>36</td>\n",
       "    </tr>\n",
       "    <tr>\n",
       "      <th>20120105</th>\n",
       "      <td>84</td>\n",
       "    </tr>\n",
       "    <tr>\n",
       "      <th>20120106</th>\n",
       "      <td>8</td>\n",
       "    </tr>\n",
       "    <tr>\n",
       "      <th>20120107</th>\n",
       "      <td>30</td>\n",
       "    </tr>\n",
       "    <tr>\n",
       "      <th>20120108</th>\n",
       "      <td>0</td>\n",
       "    </tr>\n",
       "    <tr>\n",
       "      <th>20120109</th>\n",
       "      <td>8</td>\n",
       "    </tr>\n",
       "    <tr>\n",
       "      <th>20120110</th>\n",
       "      <td>0</td>\n",
       "    </tr>\n",
       "  </tbody>\n",
       "</table>\n",
       "</div>"
      ],
      "text/plain": [
       "          precipitaciones\n",
       "20120101              207\n",
       "20120102                0\n",
       "20120103              144\n",
       "20120104               36\n",
       "20120105               84\n",
       "20120106                8\n",
       "20120107               30\n",
       "20120108                0\n",
       "20120109                8\n",
       "20120110                0"
      ]
     },
     "execution_count": 41,
     "metadata": {},
     "output_type": "execute_result"
    }
   ],
   "source": [
    "precip.iloc[:10] "
   ]
  },
  {
   "cell_type": "markdown",
   "metadata": {},
   "source": [
    "-----\n",
    "* Calcula el día que ha tenido mayor cantidad de precipitación y la cantidad de precipitación"
   ]
  },
  {
   "cell_type": "code",
   "execution_count": 42,
   "metadata": {},
   "outputs": [
    {
     "data": {
      "text/plain": [
       "precipitaciones    224\n",
       "dtype: int64"
      ]
     },
     "execution_count": 42,
     "metadata": {},
     "output_type": "execute_result"
    }
   ],
   "source": [
    "# Sol:\n",
    "precip.max()"
   ]
  },
  {
   "cell_type": "markdown",
   "metadata": {},
   "source": [
    "## References"
   ]
  },
  {
   "cell_type": "markdown",
   "metadata": {},
   "source": [
    "http://nbviewer.ipython.org/github/mbakker7/exploratory_computing_with_python/tree/master/"
   ]
  },
  {
   "cell_type": "markdown",
   "metadata": {},
   "source": [
    "-----\n"
   ]
  }
 ],
 "metadata": {
  "anaconda-cloud": {},
  "kernelspec": {
   "display_name": "Python 3",
   "language": "python",
   "name": "python3"
  },
  "language_info": {
   "codemirror_mode": {
    "name": "ipython",
    "version": 3
   },
   "file_extension": ".py",
   "mimetype": "text/x-python",
   "name": "python",
   "nbconvert_exporter": "python",
   "pygments_lexer": "ipython3",
   "version": "3.6.1"
  },
  "toc": {
   "colors": {
    "hover_highlight": "#DAA520",
    "running_highlight": "#FF0000",
    "selected_highlight": "#FFD700"
   },
   "moveMenuLeft": true,
   "nav_menu": {
    "height": "86px",
    "width": "252px"
   },
   "navigate_menu": true,
   "number_sections": true,
   "sideBar": true,
   "threshold": 4,
   "toc_cell": false,
   "toc_section_display": "block",
   "toc_window_display": false,
   "widenNotebook": false
  }
 },
 "nbformat": 4,
 "nbformat_minor": 1
}
