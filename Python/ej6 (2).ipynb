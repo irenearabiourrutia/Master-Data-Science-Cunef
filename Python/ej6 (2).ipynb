{
 "cells": [
  {
   "cell_type": "markdown",
   "metadata": {},
   "source": [
    "# Ejercicios "
   ]
  },
  {
   "cell_type": "markdown",
   "metadata": {},
   "source": [
    "#### 1 Ejercicio"
   ]
  },
  {
   "cell_type": "markdown",
   "metadata": {},
   "source": [
    "El fichero [tips.txt](./datos/tips.txt) recoge los datos asociados a las reservas de un restaurante durante un periodo de tiempo. Muestra los datos de 6 variables numéricas:\n",
    "\n",
    "* El precio de la factura, \n",
    "* La propina asociada a la factura, \n",
    "* El sexo de la persona que hizo la reserva (1=Hombre, 2=Mujer),\n",
    "* Si es una reserva para fumadores o no (0 = No Fumadores, 1 = Fumadores),\n",
    "* El día de la semana (1 = Lunes, ... , 7 = Domingo),\n",
    "* El número de comensales.\n",
    "\n",
    "Haz una pequeña exploración de los datos del fichero. Observa que el separador de datos es el símbolo coma(,).\n",
    "\n",
    "Realiza la carga de los datos con la función __loadtxt__ del módulo __NumPy__. El array devuelto por __loadtxt__ se llamará __tips__."
   ]
  },
  {
   "cell_type": "code",
   "execution_count": 1,
   "metadata": {
    "collapsed": true
   },
   "outputs": [],
   "source": [
    "# Imports necesarios\n",
    "import numpy as np                         # importación de numpy\n",
    "import matplotlib as mpl                   # importación de matplotlib con alias mpl\n",
    "import matplotlib.pyplot as plt\n",
    "%matplotlib inline"
   ]
  },
  {
   "cell_type": "code",
   "execution_count": 2,
   "metadata": {},
   "outputs": [
    {
     "data": {
      "text/plain": [
       "'/Users/irenearabiourrutia/Downloads/Cunef_Bloque3/Ejercicios_Tema_8'"
      ]
     },
     "execution_count": 2,
     "metadata": {},
     "output_type": "execute_result"
    }
   ],
   "source": [
    "%pwd"
   ]
  },
  {
   "cell_type": "code",
   "execution_count": 3,
   "metadata": {
    "collapsed": true
   },
   "outputs": [],
   "source": [
    "t=open(\"/Users/irenearabiourrutia/Downloads/Cunef_Bloque3/Ejercicios_Tema_8/datos/tips.txt\")"
   ]
  },
  {
   "cell_type": "code",
   "execution_count": 4,
   "metadata": {
    "collapsed": true
   },
   "outputs": [],
   "source": [
    "tips=np.loadtxt('/Users/irenearabiourrutia/Downloads/Cunef_Bloque3/Ejercicios_Tema_8/datos/tips.txt', delimiter=',')"
   ]
  },
  {
   "cell_type": "code",
   "execution_count": 5,
   "metadata": {},
   "outputs": [
    {
     "data": {
      "text/plain": [
       "array([[ 16.99,   1.01,   2.  ,   0.  ,   7.  ,   2.  ],\n",
       "       [ 10.34,   1.66,   1.  ,   0.  ,   7.  ,   3.  ],\n",
       "       [ 21.01,   3.5 ,   1.  ,   0.  ,   7.  ,   3.  ],\n",
       "       ..., \n",
       "       [ 22.67,   2.  ,   1.  ,   1.  ,   6.  ,   2.  ],\n",
       "       [ 17.82,   1.75,   1.  ,   0.  ,   6.  ,   2.  ],\n",
       "       [ 18.78,   3.  ,   2.  ,   0.  ,   4.  ,   2.  ]])"
      ]
     },
     "execution_count": 5,
     "metadata": {},
     "output_type": "execute_result"
    }
   ],
   "source": [
    "tips\n"
   ]
  },
  {
   "cell_type": "code",
   "execution_count": 6,
   "metadata": {},
   "outputs": [
    {
     "data": {
      "text/plain": [
       "array([ 16.99,  10.34,  21.01,  23.68,  24.59,  25.29,   8.77,  26.88,\n",
       "        15.04,  14.78,  10.27,  35.26,  15.42,  18.43,  14.83,  21.58,\n",
       "        10.33,  16.29,  16.97,  20.65,  17.92,  20.29,  15.77,  39.42,\n",
       "        19.82,  17.81,  13.37,  12.69,  21.7 ,  19.65,   9.55,  18.35,\n",
       "        15.06,  20.69,  17.78,  24.06,  16.31,  16.93,  18.69,  31.27,\n",
       "        16.04,  17.46,  13.94,   9.68,  30.4 ,  18.29,  22.23,  32.4 ,\n",
       "        28.55,  18.04,  12.54,  10.29,  34.81,   9.94,  25.56,  19.49,\n",
       "        38.01,  26.41,  11.24,  48.27,  20.29,  13.81,  11.02,  18.29,\n",
       "        17.59,  20.08,  16.45,   3.07,  20.23,  15.01,  12.02,  17.07,\n",
       "        26.86,  25.28,  14.73,  10.51,  17.92,  27.2 ,  22.76,  17.29,\n",
       "        19.44,  16.66,  10.07,  32.68,  15.98,  34.83,  13.03,  18.28,\n",
       "        24.71,  21.16,  28.97,  22.49,   5.75,  16.32,  22.75,  40.17,\n",
       "        27.28,  12.03,  21.01,  12.46,  11.35,  15.38,  44.3 ,  22.42,\n",
       "        20.92,  15.36,  20.49,  25.21,  18.24,  14.31,  14.  ,   7.25,\n",
       "        38.07,  23.95,  25.71,  17.31,  29.93,  10.65,  12.43,  24.08,\n",
       "        11.69,  13.42,  14.26,  15.95,  12.48,  29.8 ,   8.52,  14.52,\n",
       "        11.38,  22.82,  19.08,  20.27,  11.17,  12.26,  18.26,   8.51,\n",
       "        10.33,  14.15,  16.  ,  13.16,  17.47,  34.3 ,  41.19,  27.05,\n",
       "        16.43,   8.35,  18.64,  11.87,   9.78,   7.51,  14.07,  13.13,\n",
       "        17.26,  24.55,  19.77,  29.85,  48.17,  25.  ,  13.39,  16.49,\n",
       "        21.5 ,  12.66,  16.21,  13.81,  17.51,  24.52,  20.76,  31.71,\n",
       "        10.59,  10.63,  50.81,  15.81,   7.25,  31.85,  16.82,  32.9 ,\n",
       "        17.89,  14.48,   9.6 ,  34.63,  34.65,  23.33,  45.35,  23.17,\n",
       "        40.55,  20.69,  20.9 ,  30.46,  18.15,  23.1 ,  15.69,  19.81,\n",
       "        28.44,  15.48,  16.58,   7.56,  10.34,  43.11,  13.  ,  13.51,\n",
       "        18.71,  12.74,  13.  ,  16.4 ,  20.53,  16.47,  26.59,  38.73,\n",
       "        24.27,  12.76,  30.06,  25.89,  48.33,  13.27,  28.17,  12.9 ,\n",
       "        28.15,  11.59,   7.74,  30.14,  12.16,  13.42,   8.58,  15.98,\n",
       "        13.42,  16.27,  10.09,  20.45,  13.28,  22.12,  24.01,  15.69,\n",
       "        11.61,  10.77,  15.53,  10.07,  12.6 ,  32.83,  35.83,  29.03,\n",
       "        27.18,  22.67,  17.82,  18.78])"
      ]
     },
     "execution_count": 6,
     "metadata": {},
     "output_type": "execute_result"
    }
   ],
   "source": [
    "tips[:, 0] "
   ]
  },
  {
   "cell_type": "code",
   "execution_count": 7,
   "metadata": {},
   "outputs": [
    {
     "data": {
      "text/plain": [
       "array([  1.01,   1.66,   3.5 ,   3.31,   3.61,   4.71,   2.  ,   3.12,\n",
       "         1.96,   3.23,   1.71,   5.  ,   1.57,   3.  ,   3.02,   3.92,\n",
       "         1.67,   3.71,   3.5 ,   3.35,   4.08,   2.75,   2.23,   7.58,\n",
       "         3.18,   2.34,   2.  ,   2.  ,   4.3 ,   3.  ,   1.45,   2.5 ,\n",
       "         3.  ,   2.45,   3.27,   3.6 ,   2.  ,   3.07,   2.31,   5.  ,\n",
       "         2.24,   2.54,   3.06,   1.32,   5.6 ,   3.  ,   5.  ,   6.  ,\n",
       "         2.05,   3.  ,   2.5 ,   2.6 ,   5.2 ,   1.56,   4.34,   3.51,\n",
       "         3.  ,   1.5 ,   1.76,   6.73,   3.21,   2.  ,   1.98,   3.76,\n",
       "         2.64,   3.15,   2.47,   1.  ,   2.01,   2.09,   1.97,   3.  ,\n",
       "         3.14,   5.  ,   2.2 ,   1.25,   3.08,   4.  ,   3.  ,   2.71,\n",
       "         3.  ,   3.4 ,   1.83,   5.  ,   2.03,   5.17,   2.  ,   4.  ,\n",
       "         5.85,   3.  ,   3.  ,   3.5 ,   1.  ,   4.3 ,   3.25,   4.73,\n",
       "         4.  ,   1.5 ,   3.  ,   1.5 ,   2.5 ,   3.  ,   2.5 ,   3.48,\n",
       "         4.08,   1.64,   4.06,   4.29,   3.76,   4.  ,   3.  ,   1.  ,\n",
       "         4.  ,   2.55,   4.  ,   3.5 ,   5.07,   1.5 ,   1.8 ,   2.92,\n",
       "         2.31,   1.68,   2.5 ,   2.  ,   2.52,   4.2 ,   1.48,   2.  ,\n",
       "         2.  ,   2.18,   1.5 ,   2.83,   1.5 ,   2.  ,   3.25,   1.25,\n",
       "         2.  ,   2.  ,   2.  ,   2.75,   3.5 ,   6.7 ,   5.  ,   5.  ,\n",
       "         2.3 ,   1.5 ,   1.36,   1.63,   1.73,   2.  ,   2.5 ,   2.  ,\n",
       "         2.74,   2.  ,   2.  ,   5.14,   5.  ,   3.75,   2.61,   2.  ,\n",
       "         3.5 ,   2.5 ,   2.  ,   2.  ,   3.  ,   3.48,   2.24,   4.5 ,\n",
       "         1.61,   2.  ,  10.  ,   3.16,   5.15,   3.18,   4.  ,   3.11,\n",
       "         2.  ,   2.  ,   4.  ,   3.55,   3.68,   5.65,   3.5 ,   6.5 ,\n",
       "         3.  ,   5.  ,   3.5 ,   2.  ,   3.5 ,   4.  ,   1.5 ,   4.19,\n",
       "         2.56,   2.02,   4.  ,   1.44,   2.  ,   5.  ,   2.  ,   2.  ,\n",
       "         4.  ,   2.01,   2.  ,   2.5 ,   4.  ,   3.23,   3.41,   3.  ,\n",
       "         2.03,   2.23,   2.  ,   5.16,   9.  ,   2.5 ,   6.5 ,   1.1 ,\n",
       "         3.  ,   1.5 ,   1.44,   3.09,   2.2 ,   3.48,   1.92,   3.  ,\n",
       "         1.58,   2.5 ,   2.  ,   3.  ,   2.72,   2.88,   2.  ,   3.  ,\n",
       "         3.39,   1.47,   3.  ,   1.25,   1.  ,   1.17,   4.67,   5.92,\n",
       "         2.  ,   2.  ,   1.75,   3.  ])"
      ]
     },
     "execution_count": 7,
     "metadata": {},
     "output_type": "execute_result"
    }
   ],
   "source": [
    "tips[:, 1] "
   ]
  },
  {
   "cell_type": "code",
   "execution_count": 8,
   "metadata": {},
   "outputs": [
    {
     "data": {
      "text/plain": [
       "array([ 2.,  1.,  1.,  1.,  2.,  1.,  1.,  1.,  1.,  1.,  1.,  2.,  1.,\n",
       "        1.,  2.,  1.,  2.,  1.,  2.,  1.,  1.,  2.,  2.,  1.,  1.,  1.,\n",
       "        1.,  1.,  1.,  2.,  1.,  1.,  2.,  2.,  1.,  1.,  1.,  2.,  1.,\n",
       "        1.,  1.,  1.,  1.,  1.,  1.,  1.,  1.,  1.,  1.,  1.,  1.,  2.,\n",
       "        2.,  1.,  1.,  1.,  1.,  2.,  1.,  1.,  1.,  1.,  1.,  1.,  1.,\n",
       "        1.,  2.,  2.,  1.,  1.,  1.,  2.,  2.,  2.,  2.,  1.,  1.,  1.,\n",
       "        1.,  1.,  1.,  1.,  2.,  1.,  1.,  2.,  1.,  1.,  1.,  1.,  1.,\n",
       "        1.,  2.,  2.,  2.,  1.,  1.,  1.,  1.,  1.,  2.,  2.,  2.,  2.,\n",
       "        2.,  1.,  1.,  1.,  1.,  2.,  1.,  2.,  1.,  1.,  2.,  2.,  1.,\n",
       "        2.,  2.,  2.,  1.,  2.,  1.,  1.,  2.,  2.,  1.,  2.,  2.,  1.,\n",
       "        1.,  2.,  2.,  2.,  2.,  2.,  2.,  2.,  1.,  2.,  2.,  1.,  1.,\n",
       "        2.,  2.,  2.,  2.,  2.,  1.,  1.,  1.,  1.,  1.,  1.,  1.,  2.,\n",
       "        1.,  2.,  2.,  1.,  1.,  1.,  2.,  1.,  2.,  1.,  1.,  1.,  2.,\n",
       "        2.,  1.,  1.,  1.,  1.,  1.,  1.,  1.,  1.,  2.,  1.,  1.,  1.,\n",
       "        1.,  1.,  1.,  1.,  2.,  1.,  2.,  1.,  1.,  2.,  1.,  1.,  1.,\n",
       "        1.,  1.,  2.,  2.,  1.,  1.,  2.,  2.,  2.,  1.,  2.,  1.,  1.,\n",
       "        1.,  2.,  1.,  1.,  1.,  2.,  2.,  2.,  1.,  1.,  1.,  2.,  1.,\n",
       "        2.,  1.,  2.,  1.,  2.,  2.,  1.,  1.,  2.,  1.,  1.,  1.,  1.,\n",
       "        1.,  1.,  1.,  1.,  2.,  1.,  2.,  1.,  1.,  2.])"
      ]
     },
     "execution_count": 8,
     "metadata": {},
     "output_type": "execute_result"
    }
   ],
   "source": [
    "tips[:, 2] "
   ]
  },
  {
   "cell_type": "code",
   "execution_count": 9,
   "metadata": {},
   "outputs": [
    {
     "data": {
      "text/plain": [
       "array([ 0.,  0.,  0.,  0.,  0.,  0.,  0.,  0.,  0.,  0.,  0.,  0.,  0.,\n",
       "        0.,  0.,  0.,  0.,  0.,  0.,  0.,  0.,  0.,  0.,  0.,  0.,  0.,\n",
       "        0.,  0.,  0.,  0.,  0.,  0.,  0.,  0.,  0.,  0.,  0.,  0.,  0.,\n",
       "        0.,  0.,  0.,  0.,  0.,  0.,  0.,  0.,  0.,  0.,  0.,  0.,  0.,\n",
       "        0.,  0.,  0.,  0.,  1.,  0.,  1.,  0.,  1.,  1.,  1.,  1.,  0.,\n",
       "        0.,  0.,  1.,  0.,  1.,  0.,  0.,  1.,  1.,  0.,  0.,  1.,  0.,\n",
       "        0.,  0.,  1.,  0.,  0.,  1.,  0.,  0.,  0.,  0.,  0.,  0.,  1.,\n",
       "        0.,  1.,  1.,  0.,  1.,  1.,  1.,  1.,  0.,  1.,  1.,  1.,  1.,\n",
       "        0.,  1.,  1.,  1.,  0.,  1.,  0.,  0.,  0.,  0.,  0.,  0.,  0.,\n",
       "        0.,  0.,  0.,  0.,  0.,  0.,  0.,  0.,  0.,  0.,  0.,  0.,  0.,\n",
       "        0.,  0.,  0.,  0.,  0.,  0.,  0.,  0.,  1.,  0.,  0.,  0.,  0.,\n",
       "        0.,  0.,  0.,  0.,  0.,  0.,  0.,  0.,  0.,  0.,  0.,  0.,  0.,\n",
       "        0.,  0.,  0.,  0.,  0.,  0.,  0.,  0.,  1.,  0.,  0.,  0.,  1.,\n",
       "        1.,  1.,  1.,  1.,  1.,  1.,  1.,  1.,  1.,  1.,  1.,  1.,  1.,\n",
       "        1.,  1.,  1.,  0.,  1.,  1.,  1.,  1.,  1.,  1.,  1.,  1.,  1.,\n",
       "        0.,  1.,  1.,  1.,  1.,  1.,  1.,  1.,  1.,  1.,  1.,  1.,  1.,\n",
       "        1.,  1.,  1.,  1.,  0.,  1.,  1.,  1.,  1.,  1.,  1.,  1.,  1.,\n",
       "        1.,  1.,  0.,  1.,  1.,  1.,  0.,  0.,  1.,  1.,  1.,  0.,  0.,\n",
       "        1.,  0.,  1.,  1.,  0.,  0.,  1.,  1.,  0.,  0.])"
      ]
     },
     "execution_count": 9,
     "metadata": {},
     "output_type": "execute_result"
    }
   ],
   "source": [
    "tips[:, 3] "
   ]
  },
  {
   "cell_type": "markdown",
   "metadata": {},
   "source": [
    "#### 2 Ejercicio\n",
    "\n",
    "- ¿Cuántas filas hemos cargado?\n",
    "- Muestra las 10 primeras filas"
   ]
  },
  {
   "cell_type": "code",
   "execution_count": 10,
   "metadata": {},
   "outputs": [
    {
     "data": {
      "text/plain": [
       "244"
      ]
     },
     "execution_count": 10,
     "metadata": {},
     "output_type": "execute_result"
    }
   ],
   "source": [
    "len(tips)\n"
   ]
  },
  {
   "cell_type": "code",
   "execution_count": 11,
   "metadata": {},
   "outputs": [
    {
     "data": {
      "text/plain": [
       "array([[ 16.99,   1.01,   2.  ,   0.  ,   7.  ,   2.  ],\n",
       "       [ 10.34,   1.66,   1.  ,   0.  ,   7.  ,   3.  ],\n",
       "       [ 21.01,   3.5 ,   1.  ,   0.  ,   7.  ,   3.  ],\n",
       "       [ 23.68,   3.31,   1.  ,   0.  ,   7.  ,   2.  ],\n",
       "       [ 24.59,   3.61,   2.  ,   0.  ,   7.  ,   4.  ],\n",
       "       [ 25.29,   4.71,   1.  ,   0.  ,   7.  ,   4.  ],\n",
       "       [  8.77,   2.  ,   1.  ,   0.  ,   7.  ,   2.  ],\n",
       "       [ 26.88,   3.12,   1.  ,   0.  ,   7.  ,   4.  ],\n",
       "       [ 15.04,   1.96,   1.  ,   0.  ,   7.  ,   2.  ],\n",
       "       [ 14.78,   3.23,   1.  ,   0.  ,   7.  ,   2.  ]])"
      ]
     },
     "execution_count": 11,
     "metadata": {},
     "output_type": "execute_result"
    }
   ],
   "source": [
    "tips[0:10, : ] "
   ]
  },
  {
   "cell_type": "markdown",
   "metadata": {},
   "source": [
    "#### 3 Ejercicio\n",
    "\n",
    "- Calcula el importe máximo y mínimo de las facturas. El importe de la factura es la columna que ocupa la posición 0 en el array __tips__.\n",
    "\n",
    "- Representa gráficamente mediante un diagrama de caja los datos correspondientes al importe de la factura. Puedes utilizar la función __boxplot__.\n"
   ]
  },
  {
   "cell_type": "code",
   "execution_count": 12,
   "metadata": {},
   "outputs": [
    {
     "data": {
      "text/plain": [
       "50.810000000000002"
      ]
     },
     "execution_count": 12,
     "metadata": {},
     "output_type": "execute_result"
    }
   ],
   "source": [
    "# Sol importe máximo de la factura\n",
    "maximo= tips[:, 0].max()\n",
    "maximo"
   ]
  },
  {
   "cell_type": "code",
   "execution_count": 13,
   "metadata": {},
   "outputs": [
    {
     "data": {
      "text/plain": [
       "3.0699999999999998"
      ]
     },
     "execution_count": 13,
     "metadata": {},
     "output_type": "execute_result"
    }
   ],
   "source": [
    "# Sol importe mínimo de la factura\n",
    "minimo= tips[:, 0].min()\n",
    "minimo"
   ]
  },
  {
   "cell_type": "code",
   "execution_count": 14,
   "metadata": {},
   "outputs": [
    {
     "data": {
      "image/png": "[encoded data removed]",
      "text/plain": [
       "<matplotlib.figure.Figure at 0x111031c18>"
      ]
     },
     "metadata": {},
     "output_type": "display_data"
    }
   ],
   "source": [
    "# Sol representación gráfica\n",
    "fig, ax1 = plt.subplots(nrows = 1, figsize=(10,5))   \n",
    "\n",
    "caja = ax1.boxplot(tips[:, 0])"
   ]
  },
  {
   "cell_type": "markdown",
   "metadata": {},
   "source": [
    "#### 4 Ejercicio\n",
    "\n",
    "a) Representa gráficamente la relación entre el importe de la factura y la propina. Genera un diagrama de dispersión utilizando la función __scatter__.\n",
    "\n"
   ]
  },
  {
   "cell_type": "code",
   "execution_count": 15,
   "metadata": {},
   "outputs": [
    {
     "data": {
      "image/png": "[encoded data removed]",
      "text/plain": [
       "<matplotlib.figure.Figure at 0x1110d1f98>"
      ]
     },
     "metadata": {},
     "output_type": "display_data"
    }
   ],
   "source": [
    "# Sol a)\n",
    "fig, ax1 = plt.subplots(nrows = 1, figsize=(10,5))   \n",
    "Factura = tips[:,0]\n",
    "Propina = tips[:,1]\n",
    "\n",
    "ax1.scatter(Factura, Propina, marker = 'o')    # puntitos azules\n",
    "ax1.set_title('Diagrama de dispersion')\n",
    "ax1.set_xlabel('Factura')\n",
    "ax1.set_ylabel('Propina');"
   ]
  },
  {
   "cell_type": "markdown",
   "metadata": {},
   "source": [
    "b) Representa gráficamente la relación entre el importe de la factura y la propina. Genera un diagrama de dispersión utilizando la función __scatter__. Añade una tercera dimensión que será representada mediante distintos colores. La tercera dimensión se corresponde al sexo. Así podremos ver las facturas de los hombres y las de las mujeres. El sexo se corresponde con la variable en la posición 2 del array __tips__."
   ]
  },
  {
   "cell_type": "code",
   "execution_count": 16,
   "metadata": {},
   "outputs": [
    {
     "data": {
      "text/plain": [
       "<matplotlib.text.Text at 0x1146ddb38>"
      ]
     },
     "execution_count": 16,
     "metadata": {},
     "output_type": "execute_result"
    },
    {
     "data": {
      "image/png": "[encoded data removed]",
      "text/plain": [
       "<matplotlib.figure.Figure at 0x1145e1160>"
      ]
     },
     "metadata": {},
     "output_type": "display_data"
    }
   ],
   "source": [
    "# Sol b)\n",
    "sexo = tips[:,2]\n",
    "\n",
    "fig, ax1 = plt.subplots(nrows = 1, figsize=(10,5))   \n",
    "sc = ax1.scatter(Factura, Propina, c = sexo, marker = 'o') \n",
    "ax1.set_title('Diagrama de dispersion')\n",
    "ax1.set_xlabel('Factura')\n",
    "ax1.set_ylabel('Propina')\n"
   ]
  },
  {
   "cell_type": "markdown",
   "metadata": {},
   "source": [
    "---------------------"
   ]
  },
  {
   "cell_type": "code",
   "execution_count": null,
   "metadata": {
    "collapsed": true
   },
   "outputs": [],
   "source": []
  }
 ],
 "metadata": {
  "anaconda-cloud": {},
  "kernelspec": {
   "display_name": "Python 3",
   "language": "python",
   "name": "python3"
  },
  "language_info": {
   "codemirror_mode": {
    "name": "ipython",
    "version": 3
   },
   "file_extension": ".py",
   "mimetype": "text/x-python",
   "name": "python",
   "nbconvert_exporter": "python",
   "pygments_lexer": "ipython3",
   "version": "3.6.1"
  },
  "toc": {
   "colors": {
    "hover_highlight": "#DAA520",
    "running_highlight": "#FF0000",
    "selected_highlight": "#FFD700"
   },
   "moveMenuLeft": true,
   "nav_menu": {
    "height": "105px",
    "width": "252px"
   },
   "navigate_menu": true,
   "number_sections": true,
   "sideBar": true,
   "threshold": 4,
   "toc_cell": false,
   "toc_section_display": "block",
   "toc_window_display": false,
   "widenNotebook": false
  }
 },
 "nbformat": 4,
 "nbformat_minor": 1
}
